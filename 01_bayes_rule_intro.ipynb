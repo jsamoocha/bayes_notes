{
 "cells": [
  {
   "cell_type": "markdown",
   "metadata": {},
   "source": [
    "# Bayes' Theorem"
   ]
  },
  {
   "cell_type": "markdown",
   "metadata": {},
   "source": [
    "## Motivating Examples - Limitations of Machine Learning and (frequentist) Statistics\n",
    "\n",
    "(1) Consider a model for detection of fraud in financial transactions. We trained and validated such a model using (labelled) data from the past. The model is deployed in production and predicts a given transaction to be fraud. Knowing our model's True and False Positive Rates, and having an estimate of the frequency of fraud, what is the _probability_ that this transaction is actually fraudulent?\n",
    "\n",
    "(2) Consider we observe a few thousand heart rate measurements from a person's last running activity. What is the _probability_ (interval) that the observed mean and variance in this sample represent this person's true distribution of exercise intensity? How does this inference change if we have prior knowledge (e.g. population data)?\n",
    "\n",
    "ML and stats tools lack common ways to:\n",
    "\n",
    "- Express uncertainty about inference of parameters,\n",
    "- Express uncertainty about predictions,\n",
    "- Use **and make explicit** (subjective) prior knowledge for inference\n"
   ]
  },
  {
   "cell_type": "markdown",
   "metadata": {},
   "source": [
    "## The basics: Probability Mass/Density Functions\n",
    "\n",
    "A **random variable** $X$ can be:\n",
    "\n",
    "### Discrete:\n",
    "\n",
    "<img src=\"https://momath.org/wp-content/uploads/2015/09/urn2_small.png\" alt=\"Example: draw a colored ball from an urn (momath.org)\" width=300/>\n",
    "\n",
    "\n",
    "$X \\in \\{Red, Black\\}$, with **probability mass function (PMF)**\n",
    "\n",
    "<div style=\"font-size: 2em\">\n",
    "$$\n",
    "p(x) = \n",
    "\\begin{cases}\n",
    "0.8,&x = Red\\\\\n",
    "0.2,&x = Black\\\\\n",
    "0,&otherwise\n",
    "\\end{cases}\n",
    "$$\n",
    "</div"
   ]
  },
  {
   "cell_type": "code",
   "execution_count": null,
   "metadata": {},
   "outputs": [],
   "source": [
    "def pmf(x):\n",
    "    return {\n",
    "        'Red': 0.8,\n",
    "        'Black': 0.2\n",
    "    }.get(x, 0.0)"
   ]
  },
  {
   "cell_type": "markdown",
   "metadata": {},
   "source": [
    "### Continuous:\n",
    "<img src=\"https://img.staticbg.com/thumb/view/oaupload/banggood/images/6A/05/434b39fd-72b7-4ff5-93c0-eae680dfa5d7.jpg\" alt=\"a person's heart rate\" width=300/>\n",
    "\n",
    "$X \\in [30, 230]$, with probability **density** function **(PDF)**, assuming a normal distribution with:\n",
    "\n",
    "* mean $\\bbox[1pt,border:2px solid red]{\\mu} = 120$,\n",
    "* variance $\\bbox[1pt,border:2px solid blue]{\\sigma^2} = 400$\n",
    "\n",
    "<div style=\"font-size: 2em\">\n",
    "$$p(x) = \\frac{1}{\\sqrt{2\\pi\\bbox[1pt,border:2px solid blue]{400}}}e^{-\\frac{(x - \\bbox[1pt,border:2px solid red]{120})^2}{2*\\bbox[1pt,border:2px solid blue]{400}}}$$\n",
    "</div>\n",
    "\n",
    "Be aware there are [many more](https://en.wikipedia.org/wiki/List_of_probability_distributions) types of probability distributions."
   ]
  },
  {
   "cell_type": "code",
   "execution_count": null,
   "metadata": {},
   "outputs": [],
   "source": [
    "# No need to implement these PDFs yourselves, see scipy.stats\n",
    "import numpy as np\n",
    "from scipy.stats import norm\n",
    "\n",
    "heart_rate_mean = 120\n",
    "heart_rate_std = 20\n",
    "\n",
    "norm.pdf(130, loc=heart_rate_mean, scale=heart_rate_std)"
   ]
  },
  {
   "cell_type": "code",
   "execution_count": null,
   "metadata": {},
   "outputs": [],
   "source": [
    "# For reuse of the same distribution params, a distribution can be _frozen_:\n",
    "norm_hr = norm(loc=heart_rate_mean, scale=heart_rate_std)\n",
    "norm_hr.pdf(130)"
   ]
  },
  {
   "cell_type": "markdown",
   "metadata": {},
   "source": [
    "- What does this value mean?\n",
    "- Is it a probability?\n",
    "\n",
    "- What is the probability $Pr(X = 120)$, where $X$ is _exactly_ 120?\n",
    "\n",
    "---"
   ]
  },
  {
   "cell_type": "code",
   "execution_count": null,
   "metadata": {},
   "outputs": [],
   "source": [
    "import plotly.graph_objs as go\n",
    "\n",
    "x=np.linspace(30, 230, 100)\n",
    "\n",
    "go.FigureWidget(\n",
    "    data=[\n",
    "        go.Scatter(x=x, y=norm_hr.pdf(x), mode='lines', line={'shape': 'spline', 'width': 4}, showlegend=False),\n",
    "        go.Scatter(x=[130, 155], y=norm_hr.pdf([130, 155]), mode='markers', marker={'size': 8}, showlegend=False)\n",
    "    ],\n",
    "    layout={\n",
    "        'width': 800,\n",
    "        'title': 'p(X), for μ=120, σ=20',\n",
    "        'xaxis': {'title': 'X'},\n",
    "        'yaxis': {'title': 'p(X)'}\n",
    "    }\n",
    ")"
   ]
  },
  {
   "cell_type": "markdown",
   "metadata": {},
   "source": [
    "A PDF gives the **relative likelihood** of $X$ having a given value:"
   ]
  },
  {
   "cell_type": "code",
   "execution_count": null,
   "metadata": {},
   "outputs": [],
   "source": [
    "norm_hr.pdf(130) / norm_hr.pdf(155)"
   ]
  },
  {
   "cell_type": "markdown",
   "metadata": {},
   "source": [
    "meaning that with $\\mu=120$ and $\\sigma=20$, a heart rate of 130 is around 4 times more likely than a heart rate of 155.\n",
    "\n",
    "You can derive probabilities from PDFs by integration:\n",
    "\n",
    "$$Pr(100 \\le X \\le 120) = \\int_{100}^{120}p(x)$$\n",
    "\n",
    "And for a valid PDF:\n",
    "\n",
    "$$ \\int_{-\\infty}^{\\infty}p(x) = 1$$"
   ]
  },
  {
   "cell_type": "markdown",
   "metadata": {},
   "source": [
    "## Adding 1 Dimension: Joint and Conditional Probability"
   ]
  },
  {
   "cell_type": "markdown",
   "metadata": {},
   "source": [
    "The joint probability density of 2 random variables $A$ and $B$ is given as\n",
    "\n",
    "<div style=\"font-size: 2em\">\n",
    "$$\n",
    "p(A, B) = p(A|B)p(B)\n",
    "$$\n",
    "</div>\n",
    "\n",
    "where $p(A|B)$ represents the density of $A$, **given** $B$, or **conditioned on** $B$.\n",
    "\n",
    "How should $p(A, B)$, or $p(A|B)$ be interpreted?\n",
    "\n",
    "Let's use maximum heart rates as an example. A person's maximum heart rate usually decreases with age. A commonly mentioned formula to estimate maximum heart rate is 220 - age, (see [wikipedia](https://en.wikipedia.org/wiki/Heart_rate#Haskell_&_Fox))."
   ]
  },
  {
   "cell_type": "code",
   "execution_count": null,
   "metadata": {},
   "outputs": [],
   "source": [
    "def to_max_heart_rate(age):\n",
    "    return 220 - age"
   ]
  },
  {
   "cell_type": "markdown",
   "metadata": {},
   "source": [
    "This method is a gross oversimplification and shouldn't be used in practice, but serves well for this example."
   ]
  },
  {
   "cell_type": "code",
   "execution_count": null,
   "metadata": {},
   "outputs": [],
   "source": [
    "ages = np.linspace(15, 85, 100)  # simulate 100 users of some fitness app, ages \"uniformly\" distributed between 15 and 85\n",
    "max_heart_rate_means = to_max_heart_rate(ages)"
   ]
  },
  {
   "cell_type": "code",
   "execution_count": null,
   "metadata": {},
   "outputs": [],
   "source": [
    "y = np.linspace(130, 250, 100)\n",
    "max_heart_rate_densities = np.array([norm.pdf(y, loc=age_hr, scale=10) for age_hr in max_heart_rate_means])"
   ]
  },
  {
   "cell_type": "code",
   "execution_count": null,
   "metadata": {},
   "outputs": [],
   "source": [
    "go.FigureWidget(\n",
    "    data=[\n",
    "        go.Surface(x=ages, y=y, z=max_heart_rate_densities)\n",
    "    ],\n",
    "    layout=go.Layout(\n",
    "        width=600,\n",
    "        height=600,\n",
    "        xaxis=dict(title='age'),\n",
    "        yaxis=dict(title='hr max')\n",
    "    )\n",
    ")"
   ]
  },
  {
   "cell_type": "markdown",
   "metadata": {},
   "source": [
    "$p(H,A)$ represents the relative likelihood that age ($A$) and heart rate ($H$) have some values **simultaneously**. For discrete random variables, the joint PMF is a 2-d lookup table.\n",
    "\n",
    "$p(H|A=a)$ represents the relative likelihood of a heart rate for a fixed age (imagine a slice cutting through the sphere above, going through x=a). This results in a single-variable PDF.\n",
    "\n",
    "Similar to 1-d PDFs, probabilities can be obtained by (double) integration.\n",
    "\n",
    "If $A$ and $B$ are **independent**, $p(A|B) = p(A)$. Most often, this is _not_ the case, so don't interpret $p(A,B)$ as being as simple as $p(A) \\times p(B)$"
   ]
  },
  {
   "cell_type": "markdown",
   "metadata": {},
   "source": [
    "## Since Variable Order Doesn't Matter...\n",
    "\n",
    "$$\n",
    "p(A,B) = p(B,A)\\Leftrightarrow\\\\\n",
    "p(A|B)p(B) = p(B|A)p(A)\\Leftrightarrow\n",
    "$$"
   ]
  },
  {
   "cell_type": "markdown",
   "metadata": {},
   "source": [
    "<div style=\"font-size: 2em\">\n",
    "$$\n",
    "p(A|B) = \\frac{p(B|A)p(A)}{p(B)}\n",
    "$$\n",
    "</div>\n",
    "\n",
    "a.k.a. **Bayes' Theorem**, or **Bayes' Rule**"
   ]
  },
  {
   "cell_type": "markdown",
   "metadata": {},
   "source": [
    "## That Fraud Detection Model\n",
    "\n",
    "Let's try to plug our initial question about our fraud detection model into this formula. There are 2 (discrete) random variables involved:\n",
    "\n",
    "- Transaction Fraud ($F \\in \\{Fraud, OK\\}$)\n",
    "- Model Alert ($A \\in \\{Alert, OK\\}$)\n",
    "\n",
    "Having trained and validated our model using historical data, we obtained a confusion matrix that looks as follows:\n",
    "\n",
    "\n",
    "| predicted\\true| fraud | ok     |\n",
    "|---------------|-------|--------|\n",
    "| predict_fraud | 0.95  | 0.0001 |\n",
    "| predict_ok    | 0.05  | 0.9999 |\n",
    "\n",
    "\n",
    "Further, we know from past experience, that roughly 1 in a million transactions are fraudulent, i.e. $p(F=Fraud) = 0.000001$\n",
    "\n",
    "We are interested in the probability $p(F=Fraud|A=Alert)$\n",
    "\n",
    "According to Bayes' Theorem, this is equal to:\n",
    "\n",
    "$$\n",
    "\\frac{\\bbox[1pt,border:2px solid red]{p(A=Alert|F=Fraud)}\\times\\bbox[1pt,border:2px solid yellow]{p(F=Fraud)}}{\\bbox[1pt,border:2px solid blue]{p(A=Alert)}}\n",
    "$$\n",
    "\n",
    "with\n",
    "\n",
    "$$\n",
    "\\begin{align}\n",
    "p(A=Alert) & = \\sum_{f \\in F}p(A=Alert|f).p(f)\\\\\n",
    "& = 0.95\\times0.000001 + 0.0001\\times0.999999\\\\\n",
    "& \\approx 0.0001 \\\\\n",
    "\\end{align}\n",
    "$$\n",
    "\n",
    "which leads to\n",
    "\n",
    "$$\n",
    "p(F=Fraud|A=Alert) = \\frac{\\bbox[1pt,border:2px solid red]{0.95}\\times\\bbox[1pt,border:2px solid yellow]{0.000001}}{\\bbox[1pt,border:2px solid blue]{0.0001}} \\approx 0.01\n",
    "$$"
   ]
  },
  {
   "cell_type": "code",
   "execution_count": null,
   "metadata": {},
   "outputs": [],
   "source": [
    "def p_fraud_given_alert(p_fraud, true_positive_rate, false_positive_rate):\n",
    "    return true_positive_rate * p_fraud / (true_positive_rate * p_fraud + false_positive_rate * (1 - p_fraud))\n",
    "\n",
    "p_fraud_given_alert(0.001, 0.95, 0.0001)"
   ]
  },
  {
   "cell_type": "code",
   "execution_count": null,
   "metadata": {},
   "outputs": [],
   "source": [
    "p_fraud_given_alert(0.0001, 0.95, 0.0001)"
   ]
  },
  {
   "cell_type": "code",
   "execution_count": null,
   "metadata": {},
   "outputs": [],
   "source": [
    "p_fraud_given_alert(0.00001, 0.95, 0.0001)"
   ]
  },
  {
   "cell_type": "markdown",
   "metadata": {},
   "source": [
    "To conclude, the first application of Bayes' Rule is for cases where (for discrete events) we can directly measure some conditional probability $p(B|A)$, and prior probabilities $p(A)$ and $p(B)$, but our probability of interest $p(A|B)$ is less straightforward."
   ]
  }
 ],
 "metadata": {
  "kernelspec": {
   "display_name": "Python 3",
   "language": "python",
   "name": "python3"
  },
  "language_info": {
   "codemirror_mode": {
    "name": "ipython",
    "version": 3
   },
   "file_extension": ".py",
   "mimetype": "text/x-python",
   "name": "python",
   "nbconvert_exporter": "python",
   "pygments_lexer": "ipython3",
   "version": "3.6.5"
  }
 },
 "nbformat": 4,
 "nbformat_minor": 2
}
